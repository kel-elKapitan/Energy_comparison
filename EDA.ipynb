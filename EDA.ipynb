{
 "cells": [
  {
   "cell_type": "markdown",
   "metadata": {},
   "source": [
    "# EDA for Two cities power consumption before comparing them."
   ]
  },
  {
   "cell_type": "markdown",
   "metadata": {},
   "source": [
    "## Table of Contents"
   ]
  },
  {
   "cell_type": "code",
   "execution_count": 1,
   "metadata": {},
   "outputs": [],
   "source": [
    "# EDA on 2 files before we decide how to model them\n",
    "\n",
    "# steps of EDA are:\n",
    "# 1. Load data\n",
    "# 2. Check for missing values\n",
    "    # 2.1 OUTPUT: Save Raw data without missing features to 2 csv files\n",
    "# 3. Check for duplicates\n",
    "# 4. Check for data types\n",
    "    # 4.1 Changed DateTime and MTU to datetime format\n",
    "# 5. Check for outliers\n",
    "    # 5.1 Check all features and save boxplots\n",
    "        # 5.1.1 OUTPUT: save all z-scores with their corresponding feature and value to csv in the folder named 'z'\n",
    "        # 5.1.2 OUTPUT: save all min-max values with their corresponding feature and value to csv in the folder named 'min_max'\n",
    "    # 5.2 Investigate Fossil gas feature and the number of outliers\n",
    "        # 5.2.1 OUTPUT: Save the dataset without the outliers to csv\n",
    "    # 5.3 Created functions to investigate the other features except for the datetime for Dutch dataset\n",
    "    # 5.4 \n",
    "# 6. Check for data distribution\n",
    "# 7. Check for correlation\n",
    "# 8. Check for data imbalance\n",
    "# 9. Check for data leakage\n",
    "# 10. Check for feature importance\n",
    "# 11. Check for feature engineering\n",
    "# 12. Check for feature scaling\n",
    "# 13. Check for feature selection\n",
    "# 14. Check for model selection\n",
    "# 15. Check for model evaluation\n",
    "# 16. Check for model tuning\n",
    "# 17. Check for model deployment\n",
    "\n"
   ]
  },
  {
   "cell_type": "markdown",
   "metadata": {},
   "source": [
    "## Import Modules and Load Data"
   ]
  },
  {
   "cell_type": "code",
   "execution_count": 2,
   "metadata": {},
   "outputs": [
    {
     "name": "stdout",
     "output_type": "stream",
     "text": [
      "                   MTU  Biomass  Fossil Brown coal/Lignite  \\\n",
      "0  2022-08-04 00:15:00      0.0                        NaN   \n",
      "1  2022-08-04 00:30:00      0.0                        NaN   \n",
      "2  2022-08-04 00:45:00      0.0                        NaN   \n",
      "3  2022-08-04 01:00:00      0.0                        NaN   \n",
      "4  2022-08-04 01:15:00      0.0                        NaN   \n",
      "\n",
      "   Fossil Coal-derived gas  Fossil Gas  Fossil Hard coal  Fossil Oil  \\\n",
      "0                      NaN      5613.0            2747.0         NaN   \n",
      "1                      NaN      5425.0            2742.0         NaN   \n",
      "2                      NaN      5039.0            2797.0         NaN   \n",
      "3                      NaN      4661.0            2805.0         NaN   \n",
      "4                      NaN      3833.0            2789.0         NaN   \n",
      "\n",
      "   Fossil Oil shale  Fossil Peat  Geothermal  ...  \\\n",
      "0               NaN          NaN         NaN  ...   \n",
      "1               NaN          NaN         NaN  ...   \n",
      "2               NaN          NaN         NaN  ...   \n",
      "3               NaN          NaN         NaN  ...   \n",
      "4               NaN          NaN         NaN  ...   \n",
      "\n",
      "   Hydro Run-of-river and poundage  Hydro Water Reservoir  Marine  Nuclear  \\\n",
      "0                              0.0                    NaN     NaN    466.0   \n",
      "1                              0.0                    NaN     NaN    464.0   \n",
      "2                              0.0                    NaN     NaN    464.0   \n",
      "3                              0.0                    NaN     NaN    464.0   \n",
      "4                              0.0                    NaN     NaN    464.0   \n",
      "\n",
      "   Other  Other renewable  Solar  Waste  Wind Offshore  Wind Onshore  \n",
      "0   79.0              NaN    0.0   70.0          186.0          52.0  \n",
      "1   86.0              NaN    0.0   70.0          210.0          62.0  \n",
      "2   90.0              NaN    0.0   69.0          233.0          71.0  \n",
      "3   92.0              NaN    0.0   69.0          245.0          75.0  \n",
      "4   91.0              NaN    0.0   71.0          264.0          78.0  \n",
      "\n",
      "[5 rows x 22 columns]\n",
      "           DateTime  Temperature  Humidity  Wind Speed  general diffuse flows  \\\n",
      "0  01-01-2017 00:00        6.559      73.8       0.083                  0.051   \n",
      "1  01-01-2017 00:10        6.414      74.5       0.083                  0.070   \n",
      "2  01-01-2017 00:20        6.313      74.5       0.080                  0.062   \n",
      "3  01-01-2017 00:30        6.121      75.0       0.083                  0.091   \n",
      "4  01-01-2017 00:40        5.921      75.7       0.081                  0.048   \n",
      "\n",
      "   diffuse flows       Zone 1     Zone 2       Zone 3    \n",
      "0          0.119  34055.69620  16128.87538  20240.96386  \n",
      "1          0.085  29814.68354  19375.07599  20131.08434  \n",
      "2          0.100  29128.10127  19006.68693  19668.43373  \n",
      "3          0.096  28228.86076  18361.09422  18899.27711  \n",
      "4          0.085  27335.69620  17872.34043  18442.40964  \n"
     ]
    }
   ],
   "source": [
    "# 1. Load data\n",
    "\n",
    "# %pip install seaborn\n",
    "\n",
    "import pandas as pd\n",
    "import numpy as np\n",
    "import matplotlib.pyplot as plt\n",
    "import seaborn as sns\n",
    "\n",
    "# Load data\n",
    "df1 = pd.read_csv('Data/Dutch-energy.csv')\n",
    "df2 = pd.read_csv('Data/teteoun_power consumption.csv')\n",
    "\n",
    "\n",
    "print(df1.head())\n",
    "print(df2.head())"
   ]
  },
  {
   "cell_type": "markdown",
   "metadata": {},
   "source": [
    "## Check for Missing values and remove features with 100% missing data\n"
   ]
  },
  {
   "cell_type": "code",
   "execution_count": 3,
   "metadata": {},
   "outputs": [
    {
     "name": "stdout",
     "output_type": "stream",
     "text": [
      "MTU                                  0.000000\n",
      "Biomass                              0.101971\n",
      "Fossil Brown coal/Lignite          100.000000\n",
      "Fossil Coal-derived gas            100.000000\n",
      "Fossil Gas                           0.099544\n",
      "Fossil Hard coal                     0.101971\n",
      "Fossil Oil                         100.000000\n",
      "Fossil Oil shale                   100.000000\n",
      "Fossil Peat                        100.000000\n",
      "Geothermal                         100.000000\n",
      "Hydro Pumped Storage               100.000000\n",
      "Hydro Pumped Storage.1             100.000000\n",
      "Hydro Run-of-river and poundage      0.099544\n",
      "Hydro Water Reservoir              100.000000\n",
      "Marine                             100.000000\n",
      "Nuclear                              0.098330\n",
      "Other                                0.098330\n",
      "Other renewable                    100.000000\n",
      "Solar                                0.100758\n",
      "Waste                                0.099544\n",
      "Wind Offshore                        0.098330\n",
      "Wind Onshore                         0.098330\n",
      "dtype: float64\n",
      "DateTime                 0.0\n",
      "Temperature              0.0\n",
      "Humidity                 0.0\n",
      "Wind Speed               0.0\n",
      "general diffuse flows    0.0\n",
      "diffuse flows            0.0\n",
      "Zone 1                   0.0\n",
      "Zone 2                   0.0\n",
      "Zone 3                   0.0\n",
      "dtype: float64\n"
     ]
    }
   ],
   "source": [
    "\n",
    "\n",
    "\n",
    "# check for missing values as a percentage of the missing data\n",
    "print(df1.isnull().mean()*100)\n",
    "print(df2.isnull().mean()*100)\n",
    "\n"
   ]
  },
  {
   "cell_type": "code",
   "execution_count": 4,
   "metadata": {},
   "outputs": [
    {
     "name": "stdout",
     "output_type": "stream",
     "text": [
      "                       MTU  Biomass  Fossil Gas  Fossil Hard coal  \\\n",
      "0      2022-08-04 00:15:00      0.0      5613.0            2747.0   \n",
      "1      2022-08-04 00:30:00      0.0      5425.0            2742.0   \n",
      "2      2022-08-04 00:45:00      0.0      5039.0            2797.0   \n",
      "3      2022-08-04 01:00:00      0.0      4661.0            2805.0   \n",
      "4      2022-08-04 01:15:00      0.0      3833.0            2789.0   \n",
      "...                    ...      ...         ...               ...   \n",
      "82371  2025-01-16 23:00:00      0.0     10028.0            3798.0   \n",
      "82372  2025-01-16 23:15:00      0.0     10154.0            3788.0   \n",
      "82373  2025-01-16 23:30:00      0.0     10068.0            3787.0   \n",
      "82374  2025-01-16 23:45:00      0.0      9958.0            3802.0   \n",
      "82375  2025-01-16 00:00:00      0.0      9621.0            3797.0   \n",
      "\n",
      "       Hydro Run-of-river and poundage  Nuclear  Other  Solar  Waste  \\\n",
      "0                                  0.0    466.0   79.0    0.0   70.0   \n",
      "1                                  0.0    464.0   86.0    0.0   70.0   \n",
      "2                                  0.0    464.0   90.0    0.0   69.0   \n",
      "3                                  0.0    464.0   92.0    0.0   69.0   \n",
      "4                                  0.0    464.0   91.0    0.0   71.0   \n",
      "...                                ...      ...    ...    ...    ...   \n",
      "82371                              0.0    485.0  689.0    0.0   57.0   \n",
      "82372                              0.0    485.0  724.0    0.0   57.0   \n",
      "82373                              0.0    485.0  719.0    0.0   58.0   \n",
      "82374                              0.0    485.0  705.0    0.0   58.0   \n",
      "82375                              0.0    486.0  702.0    0.0   58.0   \n",
      "\n",
      "       Wind Offshore  Wind Onshore  \n",
      "0              186.0          52.0  \n",
      "1              210.0          62.0  \n",
      "2              233.0          71.0  \n",
      "3              245.0          75.0  \n",
      "4              264.0          78.0  \n",
      "...              ...           ...  \n",
      "82371          607.0         113.0  \n",
      "82372          618.0         116.0  \n",
      "82373          619.0         121.0  \n",
      "82374          611.0         108.0  \n",
      "82375          605.0         107.0  \n",
      "\n",
      "[82376 rows x 11 columns]\n"
     ]
    }
   ],
   "source": [
    "# ductch energy has a few missing values at 100%, we can drop them\n",
    "# teteoun power consumption has no missing values\n",
    "\n",
    "df1 = df1.dropna(axis=1, how='all')\n",
    "\n",
    "print(df1)\n",
    "\n",
    "# save the raw data without missing values to csv\n",
    "df1.to_csv('Data/Dutch-energy-clean_RAW.csv', index=False)\n",
    "\n",
    "\n",
    "# save the raw data without missing values to csv\n",
    "df2.to_csv('Data/Teteoun-energy-clean_RAW.csv', index=False)\n"
   ]
  },
  {
   "cell_type": "markdown",
   "metadata": {},
   "source": [
    "## Check for Duplicates"
   ]
  },
  {
   "cell_type": "code",
   "execution_count": 5,
   "metadata": {},
   "outputs": [
    {
     "name": "stdout",
     "output_type": "stream",
     "text": [
      "0\n",
      "0\n"
     ]
    }
   ],
   "source": [
    "# check for duplicates\n",
    "\n",
    "print(df1.duplicated().sum())\n",
    "print(df2.duplicated().sum())\n",
    "\n"
   ]
  },
  {
   "cell_type": "code",
   "execution_count": 6,
   "metadata": {},
   "outputs": [],
   "source": [
    "# there are no duplicates in both datasets\n",
    "\n"
   ]
  },
  {
   "cell_type": "markdown",
   "metadata": {},
   "source": [
    "## Checking Types"
   ]
  },
  {
   "cell_type": "code",
   "execution_count": 7,
   "metadata": {},
   "outputs": [
    {
     "name": "stdout",
     "output_type": "stream",
     "text": [
      "MTU                                 object\n",
      "Biomass                            float64\n",
      "Fossil Gas                         float64\n",
      "Fossil Hard coal                   float64\n",
      "Hydro Run-of-river and poundage    float64\n",
      "Nuclear                            float64\n",
      "Other                              float64\n",
      "Solar                              float64\n",
      "Waste                              float64\n",
      "Wind Offshore                      float64\n",
      "Wind Onshore                       float64\n",
      "dtype: object\n",
      "DateTime                  object\n",
      "Temperature              float64\n",
      "Humidity                 float64\n",
      "Wind Speed               float64\n",
      "general diffuse flows    float64\n",
      "diffuse flows            float64\n",
      "Zone 1                   float64\n",
      "Zone 2                   float64\n",
      "Zone 3                   float64\n",
      "dtype: object\n"
     ]
    }
   ],
   "source": [
    "# 4. Check for data types\n",
    "\n",
    "print(df1.dtypes)\n",
    "print(df2.dtypes)\n"
   ]
  },
  {
   "cell_type": "code",
   "execution_count": 8,
   "metadata": {},
   "outputs": [],
   "source": [
    "# Change the datetime columns into a datetime format\n",
    "\n",
    "# convert MTU to datetime from YYYY-mm-dd hh:mm:ss \n",
    "df1['MTU'] = pd.to_datetime(df1['MTU'], format='%Y-%m-%d %H:%M:%S')\n",
    "\n",
    "# convert DateTime to date format in df2 from the format d-m-Y H:M\n",
    "df2['DateTime'] = pd.to_datetime(df2['DateTime'], format='mixed')\n",
    "\n"
   ]
  },
  {
   "cell_type": "code",
   "execution_count": 9,
   "metadata": {},
   "outputs": [
    {
     "name": "stdout",
     "output_type": "stream",
     "text": [
      "MTU                                datetime64[ns]\n",
      "Biomass                                   float64\n",
      "Fossil Gas                                float64\n",
      "Fossil Hard coal                          float64\n",
      "Hydro Run-of-river and poundage           float64\n",
      "Nuclear                                   float64\n",
      "Other                                     float64\n",
      "Solar                                     float64\n",
      "Waste                                     float64\n",
      "Wind Offshore                             float64\n",
      "Wind Onshore                              float64\n",
      "dtype: object\n",
      "DateTime                 datetime64[ns]\n",
      "Temperature                     float64\n",
      "Humidity                        float64\n",
      "Wind Speed                      float64\n",
      "general diffuse flows           float64\n",
      "diffuse flows                   float64\n",
      "Zone 1                          float64\n",
      "Zone 2                          float64\n",
      "Zone 3                          float64\n",
      "dtype: object\n"
     ]
    }
   ],
   "source": [
    "# check types again\n",
    "print(df1.dtypes)\n",
    "print(df2.dtypes)\n"
   ]
  },
  {
   "cell_type": "markdown",
   "metadata": {},
   "source": [
    "## General Outlier detection"
   ]
  },
  {
   "cell_type": "code",
   "execution_count": 10,
   "metadata": {},
   "outputs": [
    {
     "data": {
      "image/png": "[encoded data removed]",
      "text/plain": [
       "<Figure size 500x500 with 1 Axes>"
      ]
     },
     "metadata": {},
     "output_type": "display_data"
    },
    {
     "data": {
      "image/png": "[encoded data removed]",
      "text/plain": [
       "<Figure size 500x500 with 1 Axes>"
      ]
     },
     "metadata": {},
     "output_type": "display_data"
    },
    {
     "data": {
      "image/png": "[encoded data removed]",
      "text/plain": [
       "<Figure size 500x500 with 1 Axes>"
      ]
     },
     "metadata": {},
     "output_type": "display_data"
    },
    {
     "data": {
      "image/png": "[encoded data removed]",
      "text/plain": [
       "<Figure size 500x500 with 1 Axes>"
      ]
     },
     "metadata": {},
     "output_type": "display_data"
    },
    {
     "data": {
      "image/png": "[encoded data removed]",
      "text/plain": [
       "<Figure size 500x500 with 1 Axes>"
      ]
     },
     "metadata": {},
     "output_type": "display_data"
    },
    {
     "data": {
      "image/png": "[encoded data removed]",
      "text/plain": [
       "<Figure size 500x500 with 1 Axes>"
      ]
     },
     "metadata": {},
     "output_type": "display_data"
    },
    {
     "data": {
      "image/png": "[encoded data removed]",
      "text/plain": [
       "<Figure size 500x500 with 1 Axes>"
      ]
     },
     "metadata": {},
     "output_type": "display_data"
    },
    {
     "data": {
      "image/png": "[encoded data removed]",
      "text/plain": [
       "<Figure size 500x500 with 1 Axes>"
      ]
     },
     "metadata": {},
     "output_type": "display_data"
    }
   ],
   "source": [
    "\n",
    "# 5. Check for outliers\n",
    "# create a individual boxplots for each variable to check for outliers\n",
    "\n",
    "# create a list of columns without the datetime column\n",
    "columns = df1.columns.tolist()\n",
    "\n",
    "# remove the datetime(not a numeric value), Biomass (all null values) and Hydro Run-of-river and \n",
    "# poundage (all zero values) columns from the list\n",
    "columns.remove('MTU')\n",
    "columns.remove('Biomass')\n",
    "columns.remove('Hydro Run-of-river and poundage')\n",
    "\n",
    "\n",
    "def boxplot(data):\n",
    "    plt.figure(figsize=(5, 5))\n",
    "    sns.boxplot(data=data)\n",
    "    plt.show()\n",
    "\n",
    "for column in columns:\n",
    "    boxplot(df1[column])\n",
    "\n"
   ]
  },
  {
   "cell_type": "code",
   "execution_count": null,
   "metadata": {},
   "outputs": [],
   "source": []
  },
  {
   "cell_type": "code",
   "execution_count": 11,
   "metadata": {},
   "outputs": [
    {
     "name": "stdout",
     "output_type": "stream",
     "text": [
      " \n",
      "z-scores for Fossil Gas over 3\n",
      "0        0.913213\n",
      "1        0.831284\n",
      "2        0.663069\n",
      "3        0.498340\n",
      "4        0.137506\n",
      "           ...   \n",
      "82371    2.837228\n",
      "82372    2.892137\n",
      "82373    2.854659\n",
      "82374    2.806722\n",
      "82375    2.659861\n",
      "Name: z, Length: 82376, dtype: float64\n",
      " \n",
      " \n",
      "z-scores for Fossil Hard coal over 3\n",
      "0        1.146581\n",
      "1        1.142121\n",
      "2        1.191171\n",
      "3        1.198306\n",
      "4        1.184037\n",
      "           ...   \n",
      "82371    2.083873\n",
      "82372    2.074955\n",
      "82373    2.074063\n",
      "82374    2.087440\n",
      "82375    2.082981\n",
      "Name: z, Length: 82376, dtype: float64\n",
      " \n",
      " \n",
      "z-scores for Nuclear over 3\n",
      "0        0.307570\n",
      "1        0.294719\n",
      "2        0.294719\n",
      "3        0.294719\n",
      "4        0.294719\n",
      "           ...   \n",
      "82371    0.429660\n",
      "82372    0.429660\n",
      "82373    0.429660\n",
      "82374    0.429660\n",
      "82375    0.436086\n",
      "Name: z, Length: 82376, dtype: float64\n",
      " \n",
      " \n",
      "z-scores for Other over 3\n",
      "0        0.724339\n",
      "1        0.698646\n",
      "2        0.683964\n",
      "3        0.676623\n",
      "4        0.680293\n",
      "           ...   \n",
      "82371    1.514665\n",
      "82372    1.643133\n",
      "82373    1.624780\n",
      "82374    1.573393\n",
      "82375    1.562382\n",
      "Name: z, Length: 82376, dtype: float64\n",
      " \n",
      " \n",
      "z-scores for Solar over 3\n",
      "0        0.578279\n",
      "1        0.578279\n",
      "2        0.578279\n",
      "3        0.578279\n",
      "4        0.578279\n",
      "           ...   \n",
      "82371    0.578279\n",
      "82372    0.578279\n",
      "82373    0.578279\n",
      "82374    0.578279\n",
      "82375    0.578279\n",
      "Name: z, Length: 82376, dtype: float64\n",
      " \n",
      " \n",
      "z-scores for Waste over 3\n",
      "0        0.058285\n",
      "1        0.058285\n",
      "2        0.049523\n",
      "3        0.049523\n",
      "4        0.067047\n",
      "           ...   \n",
      "82371    0.055621\n",
      "82372    0.055621\n",
      "82373    0.046859\n",
      "82374    0.046859\n",
      "82375    0.046859\n",
      "Name: z, Length: 82376, dtype: float64\n",
      " \n",
      " \n",
      "z-scores for Wind Offshore over 3\n",
      "0        1.086600\n",
      "1        1.064902\n",
      "2        1.044108\n",
      "3        1.033259\n",
      "4        1.016082\n",
      "           ...   \n",
      "82371    0.705982\n",
      "82372    0.696037\n",
      "82373    0.695133\n",
      "82374    0.702366\n",
      "82375    0.707790\n",
      "Name: z, Length: 82376, dtype: float64\n",
      " \n",
      " \n",
      "z-scores for Wind Onshore over 3\n",
      "0        1.013249\n",
      "1        0.983222\n",
      "2        0.956198\n",
      "3        0.944188\n",
      "4        0.935180\n",
      "           ...   \n",
      "82371    0.830087\n",
      "82372    0.821079\n",
      "82373    0.806066\n",
      "82374    0.845101\n",
      "82375    0.848103\n",
      "Name: z, Length: 82376, dtype: float64\n",
      " \n"
     ]
    }
   ],
   "source": [
    "# there are outliers in the Fossil Gas feature, lets identify them and\n",
    "# remove them if necessary or if they are valid data points keep them\n",
    "\n",
    "# funcion to create z-scores\n",
    "def z_score(df, column):\n",
    "    df[\"z\"] = np.abs((df[column] - df[column].mean())/df[column].std())\n",
    "    return df[\"z\"]\n",
    "\n",
    "\n",
    "\n",
    "# loop through the columns and get the outliers\n",
    "for column in columns:\n",
    "    print(\" \")\n",
    "    my_z_score = z_score(df1, column)\n",
    "    print(f\"z-scores for {column} over 3\")\n",
    "    print(my_z_score)\n",
    "    print(\" \")\n",
    "\n",
    "    my_z_score.to_csv(\"Data/z/Z_\" + column + \".csv\", index=False)\n",
    "\n",
    "\n",
    "# z-scores measure the number of standard deviations a data point is from the mean\n",
    "# if the z-score is over 3, it is considered an outlier\n",
    "\n",
    "# we have 113 outliers in the fossil gas column\n",
    "\n"
   ]
  },
  {
   "cell_type": "code",
   "execution_count": 12,
   "metadata": {},
   "outputs": [],
   "source": [
    "# outlier detected in the following columns:\n",
    "# Fossil Gas\n",
    "# Other\n",
    "# Solar\n",
    "# Waste"
   ]
  },
  {
   "cell_type": "code",
   "execution_count": 13,
   "metadata": {},
   "outputs": [
    {
     "name": "stdout",
     "output_type": "stream",
     "text": [
      "Fossil Gas\n",
      "min: 0.0\n",
      "max: 11004.0\n",
      " \n",
      "Fossil Hard coal\n",
      "min: 0.0\n",
      "max: 3912.0\n",
      " \n",
      "Nuclear\n",
      "min: 0.0\n",
      "max: 490.0\n",
      " \n",
      "Other\n",
      "min: 0.0\n",
      "max: 11638.0\n",
      " \n",
      "Solar\n",
      "min: 0.0\n",
      "max: 252.0\n",
      " \n",
      "Waste\n",
      "min: 0.0\n",
      "max: 20405.0\n",
      " \n",
      "Wind Offshore\n",
      "min: 0.0\n",
      "max: 4384.0\n",
      " \n",
      "Wind Onshore\n",
      "min: 0.0\n",
      "max: 1232.0\n",
      " \n"
     ]
    }
   ],
   "source": [
    "# get min and max values for each column and save to a csv\n",
    "\n",
    "def min_max(column):\n",
    "    print(column)\n",
    "    print(f\"min: {df1[column].min()}\")\n",
    "    print(f\"max: {df1[column].max()}\")\n",
    "    print(\" \")\n",
    "    # save the min and max values to a csv\n",
    "    min_max = pd.DataFrame({'min': [df1[column].min()], 'max': [df1[column].max()]})\n",
    "    min_max.to_csv('Data/min_max/' + column + '_min_max.csv', index=False)\n",
    "\n",
    "for column in columns:\n",
    "    min_max(column)\n"
   ]
  },
  {
   "cell_type": "markdown",
   "metadata": {},
   "source": [
    "## Investigate Fossil Gas Outliers and central tendancy "
   ]
  },
  {
   "cell_type": "markdown",
   "metadata": {},
   "source": [
    "### This next section can be packaged into ints own .py file to be run after the above code\n",
    "\n"
   ]
  },
  {
   "cell_type": "code",
   "execution_count": 14,
   "metadata": {},
   "outputs": [
    {
     "name": "stdout",
     "output_type": "stream",
     "text": [
      "['Z_Fossil Gas.csv', 'Z_Fossil Hard coal.csv', 'Z_Nuclear.csv', 'Z_Other.csv', 'Z_Solar.csv', 'Z_Waste.csv', 'Z_Wind Offshore.csv', 'Z_Wind Onshore.csv']\n",
      "              z  Fossil Gas\n",
      "0      0.913213      5613.0\n",
      "1      0.831284      5425.0\n",
      "2      0.663069      5039.0\n",
      "3      0.498340      4661.0\n",
      "4      0.137506      3833.0\n",
      "...         ...         ...\n",
      "82371  2.837228     10028.0\n",
      "82372  2.892137     10154.0\n",
      "82373  2.854659     10068.0\n",
      "82374  2.806722      9958.0\n",
      "82375  2.659861      9621.0\n",
      "\n",
      "[82376 rows x 2 columns]\n"
     ]
    }
   ],
   "source": [
    "# get a list of all the files in the z folder\n",
    "import os\n",
    "z_files = os.listdir('Data/z')\n",
    "\n",
    "print(z_files)\n",
    "\n",
    "# import the z-score file for all the columns\n",
    "z_fossil = pd.read_csv(\"Data/z/Z_Fossil Gas.csv\")\n",
    "\n",
    "\n",
    "# horizontally stack the z-score and the values\n",
    "z_fossil_gas_compiled = pd.concat([z_fossil, df1['Fossil Gas']], axis=1)\n",
    "\n",
    "print(z_fossil_gas_compiled)\n"
   ]
  },
  {
   "cell_type": "code",
   "execution_count": 21,
   "metadata": {},
   "outputs": [
    {
     "name": "stdout",
     "output_type": "stream",
     "text": [
      "Total number of data points in fossil gas column\n",
      "82376\n",
      "Total number of data points in fossil gas column without outliers\n",
      "82181\n",
      "Difference in number of data points in fossil gas column\n",
      "195\n"
     ]
    }
   ],
   "source": [
    "\n",
    "# compile the z-scores and the individual features into a csv file\n",
    "def compile_z_and_feature(column, z_scores):\n",
    "    z = pd.read_csv(\"Data/z/Z_\" + column + \".csv\")\n",
    "    # z = z.drop('z', axis=1)\n",
    "    z = pd.concat([z, df1[column]], axis=1)\n",
    "    z.to_csv(\"Data/compiled/\" + column + \"_compiled.csv\", index=False)\n",
    "\n",
    "# loop through the columns and compile the z-scores and the individual features\n",
    "# create a list of all the files in the z folder\n",
    "z_files = ['Z_Fossil Gas.csv', 'Z_Fossil Hard coal.csv', 'Z_Nuclear.csv', 'Z_Other.csv', 'Z_Solar.csv', 'Z_Waste.csv', 'Z_Wind Offshore.csv', 'Wind Onshore.csv']\n",
    "features = ['Fossil Gas', 'Fossil Hard coal', 'Nuclear', 'Other', 'Solar', 'Waste', 'Wind Offshore', 'Wind Onshore']\n",
    "\n",
    "for i in range(len(z_files)):\n",
    "    compile_z_and_feature(features[i], z_files[i])\n",
    "\n",
    "\n",
    "# create a function to remove the outliers\n",
    "def remove_outliers(df, column):\n",
    "    df_no_outliers = df[df['z'] < 3]\n",
    "    return df_no_outliers\n",
    "\n",
    "# remove the outliers from the fossil gas column\n",
    "for i in range(len(z_files)):\n",
    "    no_outliers = remove_outliers(df1, features[i])\n",
    "    no_outliers.to_csv(\"Data/outlier_removed/\" + features[i] + \"_no_outliers.csv\", index=False)\n",
    "    \n",
    "\n",
    "\n",
    "\n"
   ]
  },
  {
   "cell_type": "code",
   "execution_count": null,
   "metadata": {},
   "outputs": [],
   "source": [
    "\n",
    "\n"
   ]
  },
  {
   "cell_type": "code",
   "execution_count": 38,
   "metadata": {},
   "outputs": [
    {
     "data": {
      "image/png": "[encoded data removed]",
      "text/plain": [
       "<Figure size 500x500 with 1 Axes>"
      ]
     },
     "metadata": {},
     "output_type": "display_data"
    },
    {
     "ename": "KeyError",
     "evalue": "'Fossil Gas'",
     "output_type": "error",
     "traceback": [
      "\u001b[1;31m---------------------------------------------------------------------------\u001b[0m",
      "\u001b[1;31mKeyError\u001b[0m                                  Traceback (most recent call last)",
      "File \u001b[1;32m~\\AppData\\Local\\Packages\\PythonSoftwareFoundation.Python.3.11_qbz5n2kfra8p0\\LocalCache\\local-packages\\Python311\\site-packages\\pandas\\core\\indexes\\base.py:3805\u001b[0m, in \u001b[0;36mIndex.get_loc\u001b[1;34m(self, key)\u001b[0m\n\u001b[0;32m   3804\u001b[0m \u001b[38;5;28;01mtry\u001b[39;00m:\n\u001b[1;32m-> 3805\u001b[0m     \u001b[38;5;28;01mreturn\u001b[39;00m \u001b[38;5;28;43mself\u001b[39;49m\u001b[38;5;241;43m.\u001b[39;49m\u001b[43m_engine\u001b[49m\u001b[38;5;241;43m.\u001b[39;49m\u001b[43mget_loc\u001b[49m\u001b[43m(\u001b[49m\u001b[43mcasted_key\u001b[49m\u001b[43m)\u001b[49m\n\u001b[0;32m   3806\u001b[0m \u001b[38;5;28;01mexcept\u001b[39;00m \u001b[38;5;167;01mKeyError\u001b[39;00m \u001b[38;5;28;01mas\u001b[39;00m err:\n",
      "File \u001b[1;32mindex.pyx:167\u001b[0m, in \u001b[0;36mpandas._libs.index.IndexEngine.get_loc\u001b[1;34m()\u001b[0m\n",
      "File \u001b[1;32mindex.pyx:196\u001b[0m, in \u001b[0;36mpandas._libs.index.IndexEngine.get_loc\u001b[1;34m()\u001b[0m\n",
      "File \u001b[1;32mpandas\\\\_libs\\\\hashtable_class_helper.pxi:7081\u001b[0m, in \u001b[0;36mpandas._libs.hashtable.PyObjectHashTable.get_item\u001b[1;34m()\u001b[0m\n",
      "File \u001b[1;32mpandas\\\\_libs\\\\hashtable_class_helper.pxi:7089\u001b[0m, in \u001b[0;36mpandas._libs.hashtable.PyObjectHashTable.get_item\u001b[1;34m()\u001b[0m\n",
      "\u001b[1;31mKeyError\u001b[0m: 'Fossil Gas'",
      "\nThe above exception was the direct cause of the following exception:\n",
      "\u001b[1;31mKeyError\u001b[0m                                  Traceback (most recent call last)",
      "Cell \u001b[1;32mIn[38], line 38\u001b[0m\n\u001b[0;32m     33\u001b[0m     plt\u001b[38;5;241m.\u001b[39mshow()\n\u001b[0;32m     37\u001b[0m \u001b[38;5;28;01mfor\u001b[39;00m file, feature \u001b[38;5;129;01min\u001b[39;00m \u001b[38;5;28mzip\u001b[39m(z_files, features):\n\u001b[1;32m---> 38\u001b[0m     \u001b[43mplot_histogram\u001b[49m\u001b[43m(\u001b[49m\u001b[43mfile\u001b[49m\u001b[43m,\u001b[49m\u001b[43m \u001b[49m\u001b[43mfeature\u001b[49m\u001b[43m)\u001b[49m\n",
      "Cell \u001b[1;32mIn[38], line 20\u001b[0m, in \u001b[0;36mplot_histogram\u001b[1;34m(file, column)\u001b[0m\n\u001b[0;32m     17\u001b[0m file \u001b[38;5;241m=\u001b[39m pd\u001b[38;5;241m.\u001b[39mread_csv(\u001b[38;5;124m\"\u001b[39m\u001b[38;5;124mData/z/\u001b[39m\u001b[38;5;124m\"\u001b[39m \u001b[38;5;241m+\u001b[39m file)\n\u001b[0;32m     19\u001b[0m \u001b[38;5;66;03m# save the maen and quartiles into variables\u001b[39;00m\n\u001b[1;32m---> 20\u001b[0m mean \u001b[38;5;241m=\u001b[39m \u001b[43mfile\u001b[49m\u001b[43m[\u001b[49m\u001b[43mcolumn\u001b[49m\u001b[43m]\u001b[49m\u001b[38;5;241m.\u001b[39mmean()\n\u001b[0;32m     21\u001b[0m q1 \u001b[38;5;241m=\u001b[39m file[column]\u001b[38;5;241m.\u001b[39mquantile(\u001b[38;5;241m0.25\u001b[39m)\n\u001b[0;32m     22\u001b[0m q3 \u001b[38;5;241m=\u001b[39m file[column]\u001b[38;5;241m.\u001b[39mquantile(\u001b[38;5;241m0.75\u001b[39m)\n",
      "File \u001b[1;32m~\\AppData\\Local\\Packages\\PythonSoftwareFoundation.Python.3.11_qbz5n2kfra8p0\\LocalCache\\local-packages\\Python311\\site-packages\\pandas\\core\\frame.py:4102\u001b[0m, in \u001b[0;36mDataFrame.__getitem__\u001b[1;34m(self, key)\u001b[0m\n\u001b[0;32m   4100\u001b[0m \u001b[38;5;28;01mif\u001b[39;00m \u001b[38;5;28mself\u001b[39m\u001b[38;5;241m.\u001b[39mcolumns\u001b[38;5;241m.\u001b[39mnlevels \u001b[38;5;241m>\u001b[39m \u001b[38;5;241m1\u001b[39m:\n\u001b[0;32m   4101\u001b[0m     \u001b[38;5;28;01mreturn\u001b[39;00m \u001b[38;5;28mself\u001b[39m\u001b[38;5;241m.\u001b[39m_getitem_multilevel(key)\n\u001b[1;32m-> 4102\u001b[0m indexer \u001b[38;5;241m=\u001b[39m \u001b[38;5;28;43mself\u001b[39;49m\u001b[38;5;241;43m.\u001b[39;49m\u001b[43mcolumns\u001b[49m\u001b[38;5;241;43m.\u001b[39;49m\u001b[43mget_loc\u001b[49m\u001b[43m(\u001b[49m\u001b[43mkey\u001b[49m\u001b[43m)\u001b[49m\n\u001b[0;32m   4103\u001b[0m \u001b[38;5;28;01mif\u001b[39;00m is_integer(indexer):\n\u001b[0;32m   4104\u001b[0m     indexer \u001b[38;5;241m=\u001b[39m [indexer]\n",
      "File \u001b[1;32m~\\AppData\\Local\\Packages\\PythonSoftwareFoundation.Python.3.11_qbz5n2kfra8p0\\LocalCache\\local-packages\\Python311\\site-packages\\pandas\\core\\indexes\\base.py:3812\u001b[0m, in \u001b[0;36mIndex.get_loc\u001b[1;34m(self, key)\u001b[0m\n\u001b[0;32m   3807\u001b[0m     \u001b[38;5;28;01mif\u001b[39;00m \u001b[38;5;28misinstance\u001b[39m(casted_key, \u001b[38;5;28mslice\u001b[39m) \u001b[38;5;129;01mor\u001b[39;00m (\n\u001b[0;32m   3808\u001b[0m         \u001b[38;5;28misinstance\u001b[39m(casted_key, abc\u001b[38;5;241m.\u001b[39mIterable)\n\u001b[0;32m   3809\u001b[0m         \u001b[38;5;129;01mand\u001b[39;00m \u001b[38;5;28many\u001b[39m(\u001b[38;5;28misinstance\u001b[39m(x, \u001b[38;5;28mslice\u001b[39m) \u001b[38;5;28;01mfor\u001b[39;00m x \u001b[38;5;129;01min\u001b[39;00m casted_key)\n\u001b[0;32m   3810\u001b[0m     ):\n\u001b[0;32m   3811\u001b[0m         \u001b[38;5;28;01mraise\u001b[39;00m InvalidIndexError(key)\n\u001b[1;32m-> 3812\u001b[0m     \u001b[38;5;28;01mraise\u001b[39;00m \u001b[38;5;167;01mKeyError\u001b[39;00m(key) \u001b[38;5;28;01mfrom\u001b[39;00m \u001b[38;5;21;01merr\u001b[39;00m\n\u001b[0;32m   3813\u001b[0m \u001b[38;5;28;01mexcept\u001b[39;00m \u001b[38;5;167;01mTypeError\u001b[39;00m:\n\u001b[0;32m   3814\u001b[0m     \u001b[38;5;66;03m# If we have a listlike key, _check_indexing_error will raise\u001b[39;00m\n\u001b[0;32m   3815\u001b[0m     \u001b[38;5;66;03m#  InvalidIndexError. Otherwise we fall through and re-raise\u001b[39;00m\n\u001b[0;32m   3816\u001b[0m     \u001b[38;5;66;03m#  the TypeError.\u001b[39;00m\n\u001b[0;32m   3817\u001b[0m     \u001b[38;5;28mself\u001b[39m\u001b[38;5;241m.\u001b[39m_check_indexing_error(key)\n",
      "\u001b[1;31mKeyError\u001b[0m: 'Fossil Gas'"
     ]
    }
   ],
   "source": [
    "# lets look at the histogram of the fossil gas column\n",
    "# plot the histogram of the fossil gas column\n",
    "plt.figure(figsize=(5, 5))\n",
    "sns.histplot(data=z_fossil_gas_compiled[\"Fossil Gas\"])\n",
    "plt.show()\n",
    "\n",
    "\n",
    "# lets look at the histogram of the fossil gas column without the outliers\n",
    "# save the maen and quartiles into variables\n",
    "\n",
    "\n",
    "\n",
    "# create a function to plot the histogram of the other features with the mean and quartiles and saved to histograms folder\n",
    "\n",
    "def plot_histogram(file, column):\n",
    "    # convert the file into a dataframe\n",
    "    file = pd.read_csv(\"Data/z/\" + file)\n",
    "\n",
    "    # save the maen and quartiles into variables\n",
    "    mean = file[column].mean()\n",
    "    q1 = file[column].quantile(0.25)\n",
    "    q3 = file[column].quantile(0.75)\n",
    "\n",
    "    # plot the histogram and add the mean and quartiles\n",
    "    plt.figure(figsize=(5, 5))\n",
    "    sns.histplot(data=file[column]).axvline(mean, color='r', linestyle='--') # add the mean\n",
    "    sns.histplot(data=file[column]).axvline(q1, color='b', linestyle='--') # add the 1st quartile\n",
    "    sns.histplot(data=file[column]).axvline(q3, color='b', linestyle='--') # add the 3rd quartile\n",
    "    # add the legend\n",
    "    plt.legend({'Mean':mean,'1st Quartile':q1,'3rd Quartile':q3})\n",
    "    # save the plot\n",
    "    plt.savefig(\"Data/histograms/\" + file + \"_Histogram.png\")\n",
    "    plt.show()\n",
    "\n",
    "\n",
    "\n",
    "for file, feature in zip(z_files, features):\n",
    "    plot_histogram(file, feature)\n",
    "\n",
    "\n"
   ]
  },
  {
   "cell_type": "code",
   "execution_count": 17,
   "metadata": {},
   "outputs": [],
   "source": [
    "# after checking the outliers in the fossil gas column, \n",
    "# we can see that the outliers are valid data points that do not interfere with the data\n",
    "# we will keep the outliers in the fossil gas column\n",
    "\n",
    "# lets investigate if we can change this distribution into a normal distribution\n",
    "# we can use the log transformation to change the distribution of the data\n",
    "# we can then check if the data is normally\n",
    "# distributed by using the shapiro-wilk test\n",
    "\n",
    "\n"
   ]
  },
  {
   "cell_type": "code",
   "execution_count": 18,
   "metadata": {},
   "outputs": [
    {
     "name": "stderr",
     "output_type": "stream",
     "text": [
      "C:\\Users\\mrkel\\AppData\\Local\\Packages\\PythonSoftwareFoundation.Python.3.11_qbz5n2kfra8p0\\LocalCache\\local-packages\\Python311\\site-packages\\pandas\\core\\arraylike.py:399: RuntimeWarning: divide by zero encountered in log\n",
      "  result = getattr(ufunc, method)(*inputs, **kwargs)\n"
     ]
    },
    {
     "data": {
      "image/png": "[encoded data removed]",
      "text/plain": [
       "<Figure size 500x500 with 1 Axes>"
      ]
     },
     "metadata": {},
     "output_type": "display_data"
    }
   ],
   "source": [
    "# log transformation of the fossil gas column\n",
    "log_fossil_gas = z_fossil_gas_compiled[\"Fossil Gas\"] = np.log(z_fossil_gas_compiled[\"Fossil Gas\"])\n",
    "\n",
    "# save the log_fossil_gas to a csv\n",
    "log_fossil_gas.to_csv(\"Data/log/log_fossil_gas.csv\", index=False)\n",
    "\n",
    "# plot the histogram of the log transformed fossil gas column\n",
    "plt.figure(figsize=(5, 5))\n",
    "sns.histplot(data=log_fossil_gas)\n",
    "plt.show()\n",
    "\n"
   ]
  },
  {
   "cell_type": "code",
   "execution_count": 19,
   "metadata": {},
   "outputs": [],
   "source": [
    "# after log transformation, the data is still not normally distributed\n",
    "# the data is double peaked and not normally distributed\n",
    "\n",
    "# how to transform the data into a normal distribution\n",
    "# we can use the box-cox transformation\n",
    "# the box-cox transformation is a family of power transformations\n",
    "# that can be used to normalize the data\n",
    "# the box-cox transformation is defined as:\n",
    "# y = (x^lambda - 1)/lambda\n",
    "# where x is the data and lambda is the transformation parameter\n",
    "# lambda is the transformation parameter that maximizes the normality of the data\n",
    "# the box-cox transformation is only valid for positive data\n",
    "# we can add a constant to the data to make it positive\n",
    "# we can then use the box-cox transformation to normalize the data\n"
   ]
  },
  {
   "cell_type": "code",
   "execution_count": null,
   "metadata": {},
   "outputs": [],
   "source": [
    "\n",
    "\n"
   ]
  },
  {
   "cell_type": "code",
   "execution_count": null,
   "metadata": {},
   "outputs": [],
   "source": []
  },
  {
   "cell_type": "code",
   "execution_count": null,
   "metadata": {},
   "outputs": [],
   "source": []
  }
 ],
 "metadata": {
  "kernelspec": {
   "display_name": "Python 3",
   "language": "python",
   "name": "python3"
  },
  "language_info": {
   "codemirror_mode": {
    "name": "ipython",
    "version": 3
   },
   "file_extension": ".py",
   "mimetype": "text/x-python",
   "name": "python",
   "nbconvert_exporter": "python",
   "pygments_lexer": "ipython3",
   "version": "3.11.9"
  }
 },
 "nbformat": 4,
 "nbformat_minor": 2
}
