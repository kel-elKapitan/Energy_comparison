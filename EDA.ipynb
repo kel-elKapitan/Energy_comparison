{
 "cells": [
  {
   "cell_type": "code",
   "execution_count": null,
   "metadata": {},
   "outputs": [],
   "source": [
    "# EDA on 2 files before we decide how to model them\n",
    "\n",
    "# steps of EDA are:\n",
    "# 1. Load data\n",
    "# 2. Check for missing values\n",
    "# 3. Check for duplicates\n",
    "# 4. Check for data types\n",
    "# 5. Check for outliers\n",
    "# 6. Check for data distribution\n",
    "# 7. Check for correlation\n",
    "# 8. Check for data imbalance\n",
    "# 9. Check for data leakage\n",
    "# 10. Check for feature importance\n",
    "# 11. Check for feature engineering\n",
    "# 12. Check for feature scaling\n",
    "# 13. Check for feature selection\n",
    "# 14. Check for model selection\n",
    "# 15. Check for model evaluation\n",
    "# 16. Check for model tuning\n",
    "# 17. Check for model deployment\n",
    "\n"
   ]
  },
  {
   "cell_type": "code",
   "execution_count": 8,
   "metadata": {},
   "outputs": [
    {
     "name": "stdout",
     "output_type": "stream",
     "text": [
      "Requirement already satisfied: seaborn in c:\\users\\mrkel\\appdata\\local\\packages\\pythonsoftwarefoundation.python.3.11_qbz5n2kfra8p0\\localcache\\local-packages\\python311\\site-packages (0.13.2)\n",
      "Requirement already satisfied: numpy!=1.24.0,>=1.20 in c:\\users\\mrkel\\appdata\\local\\packages\\pythonsoftwarefoundation.python.3.11_qbz5n2kfra8p0\\localcache\\local-packages\\python311\\site-packages (from seaborn) (2.1.3)\n",
      "Requirement already satisfied: pandas>=1.2 in c:\\users\\mrkel\\appdata\\local\\packages\\pythonsoftwarefoundation.python.3.11_qbz5n2kfra8p0\\localcache\\local-packages\\python311\\site-packages (from seaborn) (2.2.3)\n",
      "Requirement already satisfied: matplotlib!=3.6.1,>=3.4 in c:\\users\\mrkel\\appdata\\local\\packages\\pythonsoftwarefoundation.python.3.11_qbz5n2kfra8p0\\localcache\\local-packages\\python311\\site-packages (from seaborn) (3.9.3)\n",
      "Requirement already satisfied: contourpy>=1.0.1 in c:\\users\\mrkel\\appdata\\local\\packages\\pythonsoftwarefoundation.python.3.11_qbz5n2kfra8p0\\localcache\\local-packages\\python311\\site-packages (from matplotlib!=3.6.1,>=3.4->seaborn) (1.3.1)\n",
      "Requirement already satisfied: cycler>=0.10 in c:\\users\\mrkel\\appdata\\local\\packages\\pythonsoftwarefoundation.python.3.11_qbz5n2kfra8p0\\localcache\\local-packages\\python311\\site-packages (from matplotlib!=3.6.1,>=3.4->seaborn) (0.12.1)\n",
      "Requirement already satisfied: fonttools>=4.22.0 in c:\\users\\mrkel\\appdata\\local\\packages\\pythonsoftwarefoundation.python.3.11_qbz5n2kfra8p0\\localcache\\local-packages\\python311\\site-packages (from matplotlib!=3.6.1,>=3.4->seaborn) (4.55.2)\n",
      "Requirement already satisfied: kiwisolver>=1.3.1 in c:\\users\\mrkel\\appdata\\local\\packages\\pythonsoftwarefoundation.python.3.11_qbz5n2kfra8p0\\localcache\\local-packages\\python311\\site-packages (from matplotlib!=3.6.1,>=3.4->seaborn) (1.4.7)\n",
      "Requirement already satisfied: packaging>=20.0 in c:\\users\\mrkel\\appdata\\local\\packages\\pythonsoftwarefoundation.python.3.11_qbz5n2kfra8p0\\localcache\\local-packages\\python311\\site-packages (from matplotlib!=3.6.1,>=3.4->seaborn) (24.1)\n",
      "Requirement already satisfied: pillow>=8 in c:\\users\\mrkel\\appdata\\local\\packages\\pythonsoftwarefoundation.python.3.11_qbz5n2kfra8p0\\localcache\\local-packages\\python311\\site-packages (from matplotlib!=3.6.1,>=3.4->seaborn) (11.0.0)\n",
      "Requirement already satisfied: pyparsing>=2.3.1 in c:\\users\\mrkel\\appdata\\local\\packages\\pythonsoftwarefoundation.python.3.11_qbz5n2kfra8p0\\localcache\\local-packages\\python311\\site-packages (from matplotlib!=3.6.1,>=3.4->seaborn) (3.2.0)\n",
      "Requirement already satisfied: python-dateutil>=2.7 in c:\\users\\mrkel\\appdata\\local\\packages\\pythonsoftwarefoundation.python.3.11_qbz5n2kfra8p0\\localcache\\local-packages\\python311\\site-packages (from matplotlib!=3.6.1,>=3.4->seaborn) (2.9.0.post0)\n",
      "Requirement already satisfied: pytz>=2020.1 in c:\\users\\mrkel\\appdata\\local\\packages\\pythonsoftwarefoundation.python.3.11_qbz5n2kfra8p0\\localcache\\local-packages\\python311\\site-packages (from pandas>=1.2->seaborn) (2024.2)\n",
      "Requirement already satisfied: tzdata>=2022.7 in c:\\users\\mrkel\\appdata\\local\\packages\\pythonsoftwarefoundation.python.3.11_qbz5n2kfra8p0\\localcache\\local-packages\\python311\\site-packages (from pandas>=1.2->seaborn) (2024.2)\n",
      "Requirement already satisfied: six>=1.5 in c:\\users\\mrkel\\appdata\\local\\packages\\pythonsoftwarefoundation.python.3.11_qbz5n2kfra8p0\\localcache\\local-packages\\python311\\site-packages (from python-dateutil>=2.7->matplotlib!=3.6.1,>=3.4->seaborn) (1.16.0)\n",
      "Note: you may need to restart the kernel to use updated packages.\n"
     ]
    },
    {
     "name": "stderr",
     "output_type": "stream",
     "text": [
      "\n",
      "[notice] A new release of pip is available: 24.0 -> 24.3.1\n",
      "[notice] To update, run: C:\\Users\\mrkel\\AppData\\Local\\Microsoft\\WindowsApps\\PythonSoftwareFoundation.Python.3.11_qbz5n2kfra8p0\\python.exe -m pip install --upgrade pip\n"
     ]
    },
    {
     "name": "stdout",
     "output_type": "stream",
     "text": [
      "                   MTU  Biomass  Fossil Brown coal/Lignite  \\\n",
      "0  2022-08-04 00:15:00      0.0                        NaN   \n",
      "1  2022-08-04 00:30:00      0.0                        NaN   \n",
      "2  2022-08-04 00:45:00      0.0                        NaN   \n",
      "3  2022-08-04 01:00:00      0.0                        NaN   \n",
      "4  2022-08-04 01:15:00      0.0                        NaN   \n",
      "\n",
      "   Fossil Coal-derived gas  Fossil Gas  Fossil Hard coal  Fossil Oil  \\\n",
      "0                      NaN      5613.0            2747.0         NaN   \n",
      "1                      NaN      5425.0            2742.0         NaN   \n",
      "2                      NaN      5039.0            2797.0         NaN   \n",
      "3                      NaN      4661.0            2805.0         NaN   \n",
      "4                      NaN      3833.0            2789.0         NaN   \n",
      "\n",
      "   Fossil Oil shale  Fossil Peat  Geothermal  ...  \\\n",
      "0               NaN          NaN         NaN  ...   \n",
      "1               NaN          NaN         NaN  ...   \n",
      "2               NaN          NaN         NaN  ...   \n",
      "3               NaN          NaN         NaN  ...   \n",
      "4               NaN          NaN         NaN  ...   \n",
      "\n",
      "   Hydro Run-of-river and poundage  Hydro Water Reservoir  Marine  Nuclear  \\\n",
      "0                              0.0                    NaN     NaN    466.0   \n",
      "1                              0.0                    NaN     NaN    464.0   \n",
      "2                              0.0                    NaN     NaN    464.0   \n",
      "3                              0.0                    NaN     NaN    464.0   \n",
      "4                              0.0                    NaN     NaN    464.0   \n",
      "\n",
      "   Other  Other renewable  Solar  Waste  Wind Offshore  Wind Onshore  \n",
      "0   79.0              NaN    0.0   70.0          186.0          52.0  \n",
      "1   86.0              NaN    0.0   70.0          210.0          62.0  \n",
      "2   90.0              NaN    0.0   69.0          233.0          71.0  \n",
      "3   92.0              NaN    0.0   69.0          245.0          75.0  \n",
      "4   91.0              NaN    0.0   71.0          264.0          78.0  \n",
      "\n",
      "[5 rows x 22 columns]\n",
      "           DateTime  Temperature  Humidity  Wind Speed  general diffuse flows  \\\n",
      "0  01-01-2017 00:00        6.559      73.8       0.083                  0.051   \n",
      "1  01-01-2017 00:10        6.414      74.5       0.083                  0.070   \n",
      "2  01-01-2017 00:20        6.313      74.5       0.080                  0.062   \n",
      "3  01-01-2017 00:30        6.121      75.0       0.083                  0.091   \n",
      "4  01-01-2017 00:40        5.921      75.7       0.081                  0.048   \n",
      "\n",
      "   diffuse flows       Zone 1     Zone 2       Zone 3    \n",
      "0          0.119  34055.69620  16128.87538  20240.96386  \n",
      "1          0.085  29814.68354  19375.07599  20131.08434  \n",
      "2          0.100  29128.10127  19006.68693  19668.43373  \n",
      "3          0.096  28228.86076  18361.09422  18899.27711  \n",
      "4          0.085  27335.69620  17872.34043  18442.40964  \n"
     ]
    }
   ],
   "source": [
    "# 1. Load data\n",
    "\n",
    "%pip install seaborn\n",
    "\n",
    "import pandas as pd\n",
    "import numpy as np\n",
    "import matplotlib.pyplot as plt\n",
    "import seaborn as sns\n",
    "\n",
    "# Load data\n",
    "df1 = pd.read_csv('Data/Dutch-energy.csv')\n",
    "df2 = pd.read_csv('Data/teteoun_power consumption.csv')\n",
    "\n",
    "\n",
    "print(df1.head())\n",
    "print(df2.head())"
   ]
  },
  {
   "cell_type": "code",
   "execution_count": 1,
   "metadata": {},
   "outputs": [
    {
     "ename": "NameError",
     "evalue": "name 'df1' is not defined",
     "output_type": "error",
     "traceback": [
      "\u001b[1;31m---------------------------------------------------------------------------\u001b[0m",
      "\u001b[1;31mNameError\u001b[0m                                 Traceback (most recent call last)",
      "Cell \u001b[1;32mIn[1], line 2\u001b[0m\n\u001b[0;32m      1\u001b[0m \u001b[38;5;66;03m# 2. Check for missing values\u001b[39;00m\n\u001b[1;32m----> 2\u001b[0m \u001b[38;5;28mprint\u001b[39m(\u001b[43mdf1\u001b[49m\u001b[38;5;241m.\u001b[39misnull()\u001b[38;5;241m.\u001b[39msum())\n\u001b[0;32m      3\u001b[0m \u001b[38;5;28mprint\u001b[39m(df2\u001b[38;5;241m.\u001b[39misnull()\u001b[38;5;241m.\u001b[39msum())\n",
      "\u001b[1;31mNameError\u001b[0m: name 'df1' is not defined"
     ]
    }
   ],
   "source": [
    "\n",
    "# 2. Check for missing values\n",
    "print(df1.isnull().sum())\n",
    "print(df2.isnull().sum())\n",
    "\n"
   ]
  },
  {
   "cell_type": "code",
   "execution_count": null,
   "metadata": {},
   "outputs": [],
   "source": []
  },
  {
   "cell_type": "code",
   "execution_count": null,
   "metadata": {},
   "outputs": [],
   "source": []
  },
  {
   "cell_type": "code",
   "execution_count": null,
   "metadata": {},
   "outputs": [],
   "source": []
  }
 ],
 "metadata": {
  "kernelspec": {
   "display_name": "Python 3",
   "language": "python",
   "name": "python3"
  },
  "language_info": {
   "codemirror_mode": {
    "name": "ipython",
    "version": 3
   },
   "file_extension": ".py",
   "mimetype": "text/x-python",
   "name": "python",
   "nbconvert_exporter": "python",
   "pygments_lexer": "ipython3",
   "version": "3.11.9"
  }
 },
 "nbformat": 4,
 "nbformat_minor": 2
}
